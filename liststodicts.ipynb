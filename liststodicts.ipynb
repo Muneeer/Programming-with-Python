{
  "nbformat": 4,
  "nbformat_minor": 0,
  "metadata": {
    "colab": {
      "name": "liststodicts.ipynb",
      "provenance": [],
      "collapsed_sections": [],
      "authorship_tag": "ABX9TyOrSkkq3+G1nR9YYJufqe23"
    },
    "kernelspec": {
      "name": "python3",
      "display_name": "Python 3"
    }
  },
  "cells": [
    {
      "cell_type": "code",
      "metadata": {
        "colab": {
          "base_uri": "https://localhost:8080/",
          "height": 166
        },
        "id": "PPZt2aRlmPkb",
        "outputId": "15964127-f925-434f-f3ed-d20c77c1c25a"
      },
      "source": [
        "import pandas as pd\r\n",
        "# Python3 code here creating class \r\n",
        "class olist: \r\n",
        "\tdef __init__(self, name, roll): \r\n",
        "\t\tself.name = name \r\n",
        "\t\tself.roll = roll \r\n",
        "\r\n",
        "# creating list\t \r\n",
        "listt = [] \r\n",
        "\r\n",
        "\r\n",
        "# appending instances to list \r\n",
        "listt.append( olist('Muneer', 2) ) \r\n",
        "listt.append( olist('Ali', 40) ) \r\n",
        "listt.append( olist('Nawaz', 44) ) \r\n",
        "listt.append( olist('Ayaz', 44) ) \r\n",
        "\r\n",
        "clist=[] #for changing the list of object to list\r\n",
        "for obj in listt: \r\n",
        "  clist.append([obj.name,obj.roll])\r\n",
        "\r\n",
        "\r\n",
        "  # c+=1\r\n",
        "# We can also access instances attributes \r\n",
        "# as list[0].name, list[0].roll and so on.\r\n",
        "\r\n",
        "df = pd.DataFrame(clist, columns=[\"Name\", \"Roll Number\"])\r\n",
        "df"
      ],
      "execution_count": 74,
      "outputs": [
        {
          "output_type": "execute_result",
          "data": {
            "text/html": [
              "<div>\n",
              "<style scoped>\n",
              "    .dataframe tbody tr th:only-of-type {\n",
              "        vertical-align: middle;\n",
              "    }\n",
              "\n",
              "    .dataframe tbody tr th {\n",
              "        vertical-align: top;\n",
              "    }\n",
              "\n",
              "    .dataframe thead th {\n",
              "        text-align: right;\n",
              "    }\n",
              "</style>\n",
              "<table border=\"1\" class=\"dataframe\">\n",
              "  <thead>\n",
              "    <tr style=\"text-align: right;\">\n",
              "      <th></th>\n",
              "      <th>Name</th>\n",
              "      <th>Roll Number</th>\n",
              "    </tr>\n",
              "  </thead>\n",
              "  <tbody>\n",
              "    <tr>\n",
              "      <th>0</th>\n",
              "      <td>Muneer</td>\n",
              "      <td>2</td>\n",
              "    </tr>\n",
              "    <tr>\n",
              "      <th>1</th>\n",
              "      <td>Ali</td>\n",
              "      <td>40</td>\n",
              "    </tr>\n",
              "    <tr>\n",
              "      <th>2</th>\n",
              "      <td>Nawaz</td>\n",
              "      <td>44</td>\n",
              "    </tr>\n",
              "    <tr>\n",
              "      <th>3</th>\n",
              "      <td>Ayaz</td>\n",
              "      <td>44</td>\n",
              "    </tr>\n",
              "  </tbody>\n",
              "</table>\n",
              "</div>"
            ],
            "text/plain": [
              "     Name  Roll Number\n",
              "0  Muneer            2\n",
              "1     Ali           40\n",
              "2   Nawaz           44\n",
              "3    Ayaz           44"
            ]
          },
          "metadata": {
            "tags": []
          },
          "execution_count": 74
        }
      ]
    }
  ]
}