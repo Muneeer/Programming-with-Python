{
  "nbformat": 4,
  "nbformat_minor": 0,
  "metadata": {
    "colab": {
      "name": "liststodicts.ipynb",
      "provenance": [],
      "authorship_tag": "ABX9TyPAZZ9KH+YmL4g1oweYJKLo"
    },
    "kernelspec": {
      "name": "python3",
      "display_name": "Python 3"
    }
  },
  "cells": [
    {
      "cell_type": "code",
      "metadata": {
        "id": "PPZt2aRlmPkb"
      },
      "source": [
        "# Python3 code here creating class \r\n",
        "class geeks: \r\n",
        "\tdef __init__(self, name, roll): \r\n",
        "\t\tself.name = name \r\n",
        "\t\tself.roll = roll \r\n",
        "\r\n",
        "# creating list\t \r\n",
        "list = [] \r\n",
        "\r\n",
        "# appending instances to list \r\n",
        "list.append( geeks('Akash', 2) ) \r\n",
        "list.append( geeks('Deependra', 40) ) \r\n",
        "list.append( geeks('Reaper', 44) ) \r\n",
        "\r\n",
        "for obj in list: \r\n",
        "\tprint( obj.name, obj.roll, sep =' ' ) \r\n",
        "\r\n",
        "# We can also access instances attributes \r\n",
        "# as list[0].name, list[0].roll and so on. \r\n"
      ],
      "execution_count": null,
      "outputs": []
    }
  ]
}